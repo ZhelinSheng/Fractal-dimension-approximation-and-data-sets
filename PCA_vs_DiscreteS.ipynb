{
  "nbformat": 4,
  "nbformat_minor": 0,
  "metadata": {
    "colab": {
      "provenance": [],
      "collapsed_sections": []
    },
    "kernelspec": {
      "name": "python3",
      "display_name": "Python 3"
    },
    "language_info": {
      "name": "python"
    }
  },
  "cells": [
    {
      "cell_type": "code",
      "source": [
        "import matplotlib.pyplot as plt\n",
        "import pandas as pd\n",
        "import numpy as np\n",
        "from sklearn.decomposition import PCA\n",
        "import itertools\n",
        "from itertools import product"
      ],
      "metadata": {
        "id": "7ZcJWPBMOZur"
      },
      "execution_count": 1,
      "outputs": []
    },
    {
      "cell_type": "markdown",
      "source": [
        "One way to rotate a 2 dimensional set"
      ],
      "metadata": {
        "id": "xUNIj6wWN-tE"
      }
    },
    {
      "cell_type": "code",
      "execution_count": 2,
      "metadata": {
        "id": "qxgeMOZcNikk"
      },
      "outputs": [],
      "source": [
        "def Rotate2Dpoint(degree, onepoint):\n",
        "    theta = np.radians(degree)\n",
        "    MatrixR = np.array(((np.cos(theta), -np.sin(theta)), (np.sin(theta), np.cos(theta))))\n",
        "    \n",
        "    return MatrixR.dot(onepoint)\n",
        "\n",
        "\n",
        "def Rotate2Dlist(degree, listoflist):\n",
        "    empty_array = np.empty((0, 2),\n",
        "                           float)  # 2 columns 0 rows, so the numpy array here is strictly speficied as (x1,y1),(x2,y2),(x3,y3).....\n",
        "    for point in listoflist:\n",
        "        v = Rotate2Dpoint(degree, point)\n",
        "\n",
        "        empty_array = np.append(empty_array, np.array([v]), axis=0)\n",
        "\n",
        "    return empty_array"
      ]
    },
    {
      "cell_type": "markdown",
      "source": [
        "PCA analysis for the cartesian product of two Cantro Sets"
      ],
      "metadata": {
        "id": "aiRbNSRXOLMC"
      }
    },
    {
      "cell_type": "code",
      "source": [
        "print(\"Enter n, number of iterations:\")\n",
        "n = int(input())\n",
        "\n",
        "# y = np.array([[-1, -1],[1,3]])  example of 2D array\n",
        "\n",
        "#create an empty array first, representing the x-coordinates of the points in R^2\n",
        "\n",
        "xaxis = []\n",
        "\n",
        "#if the elment you want to add is already in the list, don't add it\n",
        "\n",
        "def CheckDuplicate(listSE, input):\n",
        "    for element in listSE:\n",
        "        if input == element:\n",
        "            return False\n",
        "    return True\n",
        "\n",
        "# the main algorithm to find those points('s coordinate) in Cantor set, I start it from the one dimension case\n",
        "# and do the cartesian product to get the 2 dimension Cantor set\n",
        "\n",
        "def recursiveCantor(listSE, Start, End, n):\n",
        "    len = End - Start\n",
        "    FirstQ = [Start, Start+len / 4]\n",
        "    ForthQ = [End-len / 4, End]\n",
        "    #print(ForthQ)\n",
        "    if n >= 1:\n",
        "        recursiveCantor(FirstQ, Start, Start + len / 4, n - 1)\n",
        "        recursiveCantor(ForthQ, End - len / 4, End, n - 1)\n",
        "    if CheckDuplicate(xaxis, Start)==True:\n",
        "        xaxis.append(Start)\n",
        "    if CheckDuplicate(xaxis, End) == True:\n",
        "        xaxis.append(End)\n",
        "\n",
        "#this forms the value of each points on x-axis in unit square\n",
        "\n",
        "recursiveCantor([0, 1], 0, 1, n)\n",
        "\n",
        "#exactly same corresponding values for y-axis\n",
        "\n",
        "yaxis = xaxis\n",
        "\n",
        "#list1=itertools.product([1,2], repeat=2)\n",
        "\n",
        "cartesian= list(product(xaxis, yaxis))\n",
        "\n",
        "x=np.array(cartesian)\n",
        "\n",
        "#print(x)\n",
        "newx = Rotate2Dlist(30, x)\n",
        "\n",
        "\n",
        "pca = PCA(n_components=2) #we have two components here(i.e two dimensions) x-axis and y-axis\n",
        "\n",
        "newCartesian=pca.fit_transform(x)\n",
        "\n",
        "invCartesian = pca.inverse_transform(newCartesian) #inverse of the transformed data set\n",
        "\n",
        "print('explained_variance_ratio: ',pca.explained_variance_ratio_) # important! this will tell the percentage of each component takes in the total variance\n",
        "\n",
        "print('explained_variance: ',pca.explained_variance_)  #Equal to n_components largest eigenvalues of the covariance matrix of X.\n",
        "\n",
        "pca2 = PCA(n_components=2)\n",
        "\n",
        "newCartesian2=pca2.fit_transform(newx)\n",
        "\n",
        "print('after roation',pca2.explained_variance_ratio_)\n",
        "\n",
        "print('after roation',pca2.explained_variance_)\n",
        "\n",
        "dataset = pd.DataFrame({'col1': x[:, 0], 'col2': x[:, 1]})\n",
        "#print(dataset)\n",
        "fig = plt.figure()\n",
        "plt.get_current_fig_manager().set_window_title('Cantor set')\n",
        "ax = fig.add_subplot(1, 1, 1)\n",
        "xcomponent = x[:,0]\n",
        "ycomponent = x[:,1]\n",
        "ax.scatter(xcomponent, ycomponent,s=0.1)\n",
        "plt.xlabel('x')\n",
        "plt.ylabel('y')\n",
        "plt.show()\n",
        "\n",
        "dataset = pd.DataFrame({'col1': newx[:, 0], 'col2': newx[:, 1]})\n",
        "#print(dataset)\n",
        "fig = plt.figure()\n",
        "plt.get_current_fig_manager().set_window_title('Cantor set rotates \\u03F4 degree')     # here theta is 30 degree\n",
        "ax = fig.add_subplot(1, 1, 1)\n",
        "xcomponent = newx[:,0]\n",
        "ycomponent = newx[:,1]\n",
        "ax.scatter(xcomponent, ycomponent,s=0.1)\n",
        "plt.xlabel('x')\n",
        "plt.ylabel('y')\n",
        "plt.show()"
      ],
      "metadata": {
        "colab": {
          "base_uri": "https://localhost:8080/",
          "height": 645
        },
        "id": "pDhVEPIWPUJH",
        "outputId": "da61cbe2-2bee-46ab-aaae-1716b74e4722"
      },
      "execution_count": 7,
      "outputs": [
        {
          "output_type": "stream",
          "name": "stdout",
          "text": [
            "Enter n, number of iterations:\n",
            "5\n",
            "explained_variance_ratio:  [0.5 0.5]\n",
            "explained_variance:  [0.15003673 0.15003673]\n",
            "after roation [0.5 0.5]\n",
            "after roation [0.15003673 0.15003673]\n"
          ]
        },
        {
          "output_type": "display_data",
          "data": {
            "text/plain": [
              "<Figure size 432x288 with 1 Axes>"
            ],
            "image/png": "[encoded data removed]"
          },
          "metadata": {
            "needs_background": "light"
          }
        },
        {
          "output_type": "display_data",
          "data": {
            "text/plain": [
              "<Figure size 432x288 with 1 Axes>"
            ],
            "image/png": "[encoded data removed]"
          },
          "metadata": {
            "needs_background": "light"
          }
        }
      ]
    },
    {
      "cell_type": "markdown",
      "source": [
        "PCA analysis for 2D Grid"
      ],
      "metadata": {
        "id": "Hcrp9p71QR2o"
      }
    },
    {
      "cell_type": "code",
      "source": [
        "print(\"divide a segment into n equal parts, enter your n:\")\n",
        "n = int(input())\n",
        "\n",
        "#initialize values on x-axis\n",
        "xaxis=[]\n",
        "\n",
        "# the function which creates a list of a line being divided into n equal segments, origlist is the one need to be divided,return nlist\n",
        "def generateEqualSpace(origlist,list,nseg):\n",
        "    start = origlist[0]\n",
        "    end = origlist[1]\n",
        "    seglength=end-start\n",
        "    list.append(start)\n",
        "    i=0\n",
        "    for i in range(n) :\n",
        "        start+=seglength/nseg   # the property of float may show some \"weird\" numbers like 0.6000000000000001, you can\n",
        "                                # use round(number, k) to round, but be careful\n",
        "\n",
        "        list.append(start)\n",
        "\n",
        "\n",
        "generateEqualSpace([0,1], xaxis, n)  # since a unit square is needed, do the divition on [0,1]\n",
        "\n",
        "\n",
        "yaxis=xaxis\n",
        "\n",
        "#now do the cartesian product between xaxis and y axis\n",
        "\n",
        "cartesian= list(product(xaxis, yaxis))\n",
        "\n",
        "\n",
        "#put it into 2-D array thus pca can do some analysis\n",
        "\n",
        "x=np.array(cartesian)\n",
        "#print(x)\n",
        "\n",
        "pca = PCA(n_components=2) #we have two components here(i.e two dimensions) x-axis and y-axis, so first don't reduce the dim but do some analysis\n",
        "\n",
        "newCartesian=pca.fit_transform(x) #refers to PCA from sklearn\n",
        "\n",
        "#print(newCartesian)\n",
        "\n",
        "invCartesian = pca.inverse_transform(newCartesian) #inverse of the transformed data set\n",
        "\n",
        "print(pca.explained_variance_ratio_, 'explained_variance_ratio')\n",
        "\n",
        "print(pca.explained_variance_, 'explained_variance')\n",
        "\n",
        "newx = Rotate2Dlist(60, x) # rotate 60 degrees in a counterclockwise direction\n",
        "\n",
        "pca2 = PCA(n_components=2)\n",
        "\n",
        "newCartesian2=pca2.fit_transform(newx)\n",
        "\n",
        "print('After roation',pca2.explained_variance_ratio_, 'explained_variance_ratio')\n",
        "\n",
        "print('After roation',pca2.explained_variance_, 'explained_variance')\n",
        "\n",
        "dataset = pd.DataFrame({'col1': x[:, 0], 'col2': x[:, 1]})\n",
        "#print(dataset)\n",
        "fig = plt.figure()\n",
        "plt.get_current_fig_manager().set_window_title('Lattice')\n",
        "ax = fig.add_subplot(1, 1, 1)\n",
        "xcomponent = x[:,0]\n",
        "ycomponent = x[:,1]\n",
        "ax.scatter(xcomponent, ycomponent,s=0.5)\n",
        "plt.xlabel('x')\n",
        "plt.ylabel('y')\n",
        "plt.show()\n",
        "\n",
        "dataset = pd.DataFrame({'col1': newx[:, 0], 'col2': newx[:, 1]})\n",
        "fig = plt.figure()\n",
        "plt.get_current_fig_manager().set_window_title('Lattice set rotates \\u03F4 degree')     # here theta is 60 degree\n",
        "ax = fig.add_subplot(1, 1, 1)\n",
        "xcomponent = newx[:,0]\n",
        "ycomponent = newx[:,1]\n",
        "ax.scatter(xcomponent, ycomponent,s=0.5)\n",
        "plt.xlabel('x')\n",
        "plt.ylabel('y')\n",
        "plt.show()"
      ],
      "metadata": {
        "colab": {
          "base_uri": "https://localhost:8080/",
          "height": 645
        },
        "id": "YOaL8xmSQXH-",
        "outputId": "4f29253d-4a2a-4c9d-b716-f94e177051bc"
      },
      "execution_count": 9,
      "outputs": [
        {
          "output_type": "stream",
          "name": "stdout",
          "text": [
            "divide a segment into n equal parts, enter your n:\n",
            "5\n",
            "[0.5 0.5] explained_variance_ratio\n",
            "[0.12 0.12] explained_variance\n",
            "After roation [0.5 0.5] explained_variance_ratio\n",
            "After roation [0.12 0.12] explained_variance\n"
          ]
        },
        {
          "output_type": "display_data",
          "data": {
            "text/plain": [
              "<Figure size 432x288 with 1 Axes>"
            ],
            "image/png": "[encoded data removed]"
          },
          "metadata": {
            "needs_background": "light"
          }
        },
        {
          "output_type": "display_data",
          "data": {
            "text/plain": [
              "<Figure size 432x288 with 1 Axes>"
            ],
            "image/png": "[encoded data removed]"
          },
          "metadata": {
            "needs_background": "light"
          }
        }
      ]
    },
    {
      "cell_type": "markdown",
      "source": [
        "Now we turn our attention to the Discrete-S energy function"
      ],
      "metadata": {
        "id": "YnCox2oeRJvb"
      }
    },
    {
      "cell_type": "code",
      "source": [
        "def DiscreteEnergy(P, s, N):\n",
        "    \"\"\"\n",
        "    P - list of one-dimensional arrays\n",
        "    s - positive real number\n",
        "    N - number of points in P\n",
        "\n",
        "    \"\"\"\n",
        "    c = 0\n",
        "    for i in range(N - 1):\n",
        "        #P = np.array(P)\n",
        "        # P[i+1:] is the list of points after P[i]\n",
        "        # Then, from each point in this list, we subtract P[i]\n",
        "        diff = P[i + 1:] - P[i]\n",
        "\n",
        "        # Then we compute the norm of each one of those points.\n",
        "        # Each point is a row of our array P, so we pass\n",
        "        # the argument axis = 1 to indicate that.\n",
        "        norms = np.linalg.norm(diff, axis=1)\n",
        "\n",
        "        #print(norms)\n",
        "        # Then we take -s'th power of those numbers and sum them\n",
        "        c += np.sum(np.power(norms, -s))\n",
        "    return c / N ** 2\n",
        "\n",
        "def BigCantor(n):\n",
        "    return DiscreteEnergy(x, svalue , (n+1)**2)   #Where svalue is the critical value s"
      ],
      "metadata": {
        "id": "42dI0KfGRbFc"
      },
      "execution_count": 16,
      "outputs": []
    },
    {
      "cell_type": "markdown",
      "source": [
        "We first test it on a 2-D grid (a Lattice)"
      ],
      "metadata": {
        "id": "dRqJ13ASRg2i"
      }
    },
    {
      "cell_type": "code",
      "source": [
        "xaxis=[]\n",
        "\n",
        "def generateEqualSpace(origlist,list,nseg):\n",
        "    start = origlist[0]\n",
        "    end = origlist[1]\n",
        "    seglength=end-start\n",
        "    list.append(start)\n",
        "    i=0\n",
        "    for i in range(nseg) :\n",
        "        start+=seglength/nseg   # the property of float may show some \"weird\" numbers like 0.6000000000000001, you can\n",
        "                                # use round(number, k) to round, but be careful\n",
        "        list.append(start)\n",
        "    \"\"\"\n",
        "\n",
        "    Need to enter the s value manually to test convergence, if the entry is the critical value, then the discrete-s energy shall converge as the number of points increase\n",
        "    if the entry is bigger than the critical value, then the discrete-s will not converge\n",
        "    \"\"\"\n",
        "svalue=2  \n",
        "\n",
        "def BigCantor(n,x):\n",
        "    return DiscreteEnergy(x, svalue, (n+1)**2)   # svalue should be 2\n",
        "\n",
        "xcomponent=[]\n",
        "\n",
        "ycomponent=[]\n",
        "\n",
        "for i in range(1,110):  #actually range from 0 to 20 but we dont need 0\n",
        "    xaxis=[]\n",
        "    generateEqualSpace([0, 1], xaxis, i+1)\n",
        "    #print(xaxis)\n",
        "    yaxis = xaxis\n",
        "    cartesian = list(product(xaxis, yaxis))\n",
        "    x = np.array(cartesian)\n",
        "    xcomponent.append((i+1)**2)\n",
        "    ycomponent.append(BigCantor(i+1,x))\n",
        "\n",
        "    #print(\"***************Discrete S energy result:\", BigCantor(i+1,x))\n",
        "\n",
        "#print(xcomponent)\n",
        "\n",
        "output='Lattice s-value = '+str(svalue)\n",
        "#print(dataset)\n",
        "fig = plt.figure()\n",
        "plt.get_current_fig_manager().set_window_title(output)\n",
        "ax = fig.add_subplot(1, 1, 1)\n",
        "ax.scatter(xcomponent, ycomponent,s=0.5)\n",
        "plt.xlabel('number of points')\n",
        "plt.ylabel('Is(Pn)')\n",
        "plt.show()"
      ],
      "metadata": {
        "colab": {
          "base_uri": "https://localhost:8080/",
          "height": 279
        },
        "id": "BmMr_vEpRkUe",
        "outputId": "96f5673a-1d88-4564-c742-ec8ff1329b22"
      },
      "execution_count": 18,
      "outputs": [
        {
          "output_type": "display_data",
          "data": {
            "text/plain": [
              "<Figure size 432x288 with 1 Axes>"
            ],
            "image/png": "[encoded data removed]"
          },
          "metadata": {
            "needs_background": "light"
          }
        }
      ]
    },
    {
      "cell_type": "markdown",
      "source": [
        "Then we test the Discrete-S on the $C^k_\\text{2,4}$ Cantor sets"
      ],
      "metadata": {
        "id": "cnpgipShVWfg"
      }
    },
    {
      "cell_type": "code",
      "source": [
        "xaxis = []\n",
        "\n",
        "def DiscreteEnergyOneDim(P, s, N):\n",
        "    P = np.array(P)  # making sure we are using numpy array\n",
        "    c = 0\n",
        "    for i in range(N - 1):\n",
        "        diff = P[i + 1:] - P[i]\n",
        "        c += np.sum(np.abs(diff) ** (-s))\n",
        "    return c / N ** 2\n",
        "\n",
        "svalue=np.log(2) / np.log(4)    # should be np.log(2) / np.log(4)=0.5, and please try any other values to see the differences\n",
        "\n",
        "xcomponent=[]\n",
        "ycomponent=[]\n",
        "\n",
        "def BigCantor(n):\n",
        "    return DiscreteEnergyOneDim(xaxis, svalue , 2 ** (n + 1))   #np.log(2) / np.log(3)\n",
        "\n",
        "for i in range(1,15):\n",
        "    xaxis = []\n",
        "    recursiveCantor([0, 1], 0, 1, i)\n",
        "    x=np.array(xaxis)\n",
        "    xcomponent.append(2 ** (i + 1))\n",
        "    ycomponent.append(BigCantor(i))\n",
        "    #print(\"***************Discrete S energy result:\", BigCantor(i))\n",
        "\n",
        "\n",
        "output='C2,4 Cantor Set s-value = '+str(svalue)\n",
        "#print(dataset)\n",
        "fig = plt.figure()\n",
        "plt.get_current_fig_manager().set_window_title(output)\n",
        "ax = fig.add_subplot(1, 1, 1)\n",
        "\n",
        "ax.scatter(xcomponent, ycomponent,s=2)\n",
        "plt.xlabel('number of points')\n",
        "plt.ylabel('Is(Pn)')\n",
        "plt.show()"
      ],
      "metadata": {
        "colab": {
          "base_uri": "https://localhost:8080/",
          "height": 281
        },
        "id": "JvHyhcj4V0US",
        "outputId": "ae2959d4-d41f-49c7-c024-ddeffe2e340f"
      },
      "execution_count": 20,
      "outputs": [
        {
          "output_type": "display_data",
          "data": {
            "text/plain": [
              "<Figure size 432x288 with 1 Axes>"
            ],
            "image/png": "[encoded data removed]"
          },
          "metadata": {
            "needs_background": "light"
          }
        }
      ]
    }
  ]
}